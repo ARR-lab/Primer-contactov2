{
 "cells": [
  {
   "cell_type": "code",
   "execution_count": null,
   "id": "0573aea1",
   "metadata": {},
   "outputs": [
    {
     "name": "stdout",
     "output_type": "stream",
     "text": [
      "Ingresa el numero de la palabra que quieras saber y te dare su frecuencia 1\n",
      "La palabra 'el' se repite 2 veces\n",
      "Ingresa el numero de la palabra que quieras saber y te dare su frecuencia 0\n",
      "La palabra 'amor' se repite 1 veces\n",
      "Ingresa el numero de la palabra que quieras saber y te dare su frecuencia 6\n",
      "La palabra 'es' se repite 1 veces\n",
      "Ingresa el numero de la palabra que quieras saber y te dare su frecuencia 9\n",
      "La palabra 'una' se repite 2 veces\n",
      "Ingresa el numero de la palabra que quieras saber y te dare su frecuencia 11\n",
      "La palabra 'locura' se repite 2 veces\n"
     ]
    }
   ],
   "source": [
    "#Ingresar la variable \"texto\" para poder modificar este mismo.\n",
    "texto = \"El amor es una locura que ni lo cura lo cura. Porque si el cura lo cura seria una locura del cura\"\n",
    "\n",
    "#Eliminamos los caracteres que no contamos como palabras.\n",
    "quitar = \",;:.\\n!\\\"'\"\n",
    "for caracter in quitar:\n",
    "    texto = texto.replace(caracter, \" \")\n",
    "    \n",
    "#Lo convertimos a minúsculas.\n",
    "texto = texto.lower()\n",
    "\n",
    "#Las palabras están separadas por un espacio, así que convertimos la cadena.\n",
    "palabras = texto.split(\" \")\n",
    "\n",
    "#Contamos las palabras creando un diccionario.\n",
    "#Si la palabra ya esta dentro del diciconario se agrga el valor de \"1\".\n",
    "#Si no existe, se agrega y se contabiliza como 1.\n",
    "#Imprime las palabras que solo se contabilizaron una vez.\n",
    "#Imprime las palabras que se contabilizaron mas de una vez.\n",
    "#En sincronia con el comando \"print\" tenemos una visualizacion exacta de la frecuencia de repeticion y la palabra.\n",
    "#De manera interactiva puedes elegir el numero de la palabra que quieres saber para obtener su frecuencia de repeticion.\n",
    "diccionario_frecuencias = {}\n",
    "for palabra in palabras:\n",
    "    if palabra in diccionario_frecuencias:\n",
    "        diccionario_frecuencias[palabra] += 1\n",
    "    else:\n",
    "        diccionario_frecuencias[palabra] = 1\n",
    "\n",
    "for palabra in diccionario_frecuencias:\n",
    "    frecuencia = diccionario_frecuencias[palabra]\n",
    "    palabras = input(\"Ingresa el numero de la palabra que quieras saber y te dare su frecuencia \")\n",
    "    print(f\"La palabra '{palabra}' se repite {frecuencia} veces\")"
   ]
  },
  {
   "cell_type": "code",
   "execution_count": null,
   "id": "795ab4eb",
   "metadata": {},
   "outputs": [],
   "source": []
  }
 ],
 "metadata": {
  "kernelspec": {
   "display_name": "Python 3 (ipykernel)",
   "language": "python",
   "name": "python3"
  },
  "language_info": {
   "codemirror_mode": {
    "name": "ipython",
    "version": 3
   },
   "file_extension": ".py",
   "mimetype": "text/x-python",
   "name": "python",
   "nbconvert_exporter": "python",
   "pygments_lexer": "ipython3",
   "version": "3.9.13"
  }
 },
 "nbformat": 4,
 "nbformat_minor": 5
}
