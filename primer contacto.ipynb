{
 "cells": [
  {
   "cell_type": "code",
   "execution_count": 2,
   "metadata": {},
   "outputs": [
    {
     "name": "stdout",
     "output_type": "stream",
     "text": [
      "8\n"
     ]
    }
   ],
   "source": [
    "\"Este es un comentario\"\n",
    "''\n",
    "caballo = 3\n",
    "homosexual = 5\n",
    "print(caballo + homosexual)"
   ]
  },
  {
   "cell_type": "code",
   "execution_count": 6,
   "metadata": {},
   "outputs": [
    {
     "name": "stdout",
     "output_type": "stream",
     "text": [
      "El montro a pagar es:  1035.0\n"
     ]
    }
   ],
   "source": [
    "horas = input(\"Dame el numero de horas trabajadas: \")\n",
    "tarifa_hora = input(\"Dame la tarifa por hora trabajada: \")\n",
    "try:\n",
    "    horas = float(horas)\n",
    "    tarifa_hora = float(tarifa_hora)\n",
    "    if horas > 0 and tarifa_hora > 0:\n",
    "        if horas <=40:\n",
    "            monto = horas * tarifa_hora\n",
    "        elif horas <= 40:\n",
    "            monto = 40 * tarifa_hora + (horas - 40) * tarifa_hora * 1.1\n",
    "        else:\n",
    "            monto = 40 * tarifa_hora + 10 * tarifa_hora * 1.1 + (horas - 50) * tarifa_hora * 1.2\n",
    "        print(\"El montro a pagar es: \", monto)\n",
    "    else:\n",
    "        print(\"Parametros incorrectos\")\n",
    "except:\n",
    "    print(\"Parametros incorrectos\")\n"
   ]
  },
  {
   "cell_type": "code",
   "execution_count": null,
   "metadata": {},
   "outputs": [],
   "source": [
    "#Preguntar al usuario si es mayor de edad\n",
    "#Si es mayor de edad, dejalo pasar\n",
    "#Si es menor, reyectalo"
   ]
  },
  {
   "cell_type": "code",
   "execution_count": null,
   "metadata": {},
   "outputs": [],
   "source": [
    "#Pregunta al usuario cuantas horas lleva en la fial, si son mas de 3 horas, imprime: Pasa a la ultima ventanilla\n",
    "#Si lleva esperando menos de 3 horas, dejalo esperando en la fila"
   ]
  }
 ],
 "metadata": {
  "kernelspec": {
   "display_name": "Python 3",
   "language": "python",
   "name": "python3"
  },
  "language_info": {
   "codemirror_mode": {
    "name": "ipython",
    "version": 3
   },
   "file_extension": ".py",
   "mimetype": "text/x-python",
   "name": "python",
   "nbconvert_exporter": "python",
   "pygments_lexer": "ipython3",
   "version": "3.11.3"
  },
  "orig_nbformat": 4
 },
 "nbformat": 4,
 "nbformat_minor": 2
}
